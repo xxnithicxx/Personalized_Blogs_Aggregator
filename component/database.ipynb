{
 "cells": [
  {
   "cell_type": "code",
   "execution_count": 1,
   "metadata": {},
   "outputs": [
    {
     "name": "stdout",
     "output_type": "stream",
     "text": [
      "collections=[]\n"
     ]
    }
   ],
   "source": [
    "# Cloud Qdrant Python client example\n",
    "from qdrant_client import QdrantClient\n",
    "\n",
    "qdrant_client = QdrantClient(\n",
    "    url=\"https://68b01e1e-8366-47ae-875b-58af2d43ee5f.us-east4-0.gcp.cloud.qdrant.io:6333\", \n",
    "    api_key=\"Cy64aP-u-8Eme6sPMCJ60HKhE1a9OZ6TEftmmvH4SoT72Na_hvZfLg\",\n",
    ")\n",
    "\n",
    "print(qdrant_client.get_collections())"
   ]
  },
  {
   "cell_type": "code",
   "execution_count": 5,
   "metadata": {},
   "outputs": [
    {
     "name": "stdout",
     "output_type": "stream",
     "text": [
      "collections=[]\n"
     ]
    }
   ],
   "source": [
    "# Local Qdrant Python client example\n",
    "from qdrant_client import QdrantClient\n",
    "from qdrant_client.http import models\n",
    "\n",
    "qdrant_client = QdrantClient(\n",
    "    url=\"http://localhost:6333\", \n",
    "    port=6333,\n",
    ")\n",
    "\n",
    "print(qdrant_client.get_collections())"
   ]
  },
  {
   "cell_type": "code",
   "execution_count": 3,
   "metadata": {},
   "outputs": [
    {
     "ename": "AssertionError",
     "evalue": "Unknown arguments: ['always_ram']",
     "output_type": "error",
     "traceback": [
      "\u001b[1;31m---------------------------------------------------------------------------\u001b[0m",
      "\u001b[1;31mAssertionError\u001b[0m                            Traceback (most recent call last)",
      "Cell \u001b[1;32mIn[3], line 1\u001b[0m\n\u001b[1;32m----> 1\u001b[0m \u001b[43mqdrant_client\u001b[49m\u001b[38;5;241;43m.\u001b[39;49m\u001b[43mcreate_collection\u001b[49m\u001b[43m(\u001b[49m\n\u001b[0;32m      2\u001b[0m \u001b[43m    \u001b[49m\u001b[43mcollection_name\u001b[49m\u001b[38;5;241;43m=\u001b[39;49m\u001b[38;5;124;43m\"\u001b[39;49m\u001b[38;5;124;43mexample_collection\u001b[39;49m\u001b[38;5;124;43m\"\u001b[39;49m\u001b[43m,\u001b[49m\n\u001b[0;32m      3\u001b[0m \u001b[43m    \u001b[49m\u001b[43mvectors_config\u001b[49m\u001b[38;5;241;43m=\u001b[39;49m\u001b[43mmodels\u001b[49m\u001b[38;5;241;43m.\u001b[39;49m\u001b[43mVectorParams\u001b[49m\u001b[43m(\u001b[49m\u001b[43msize\u001b[49m\u001b[38;5;241;43m=\u001b[39;49m\u001b[38;5;241;43m100\u001b[39;49m\u001b[43m,\u001b[49m\u001b[43m \u001b[49m\u001b[43mdistance\u001b[49m\u001b[38;5;241;43m=\u001b[39;49m\u001b[38;5;124;43m\"\u001b[39;49m\u001b[38;5;124;43mCosine\u001b[39;49m\u001b[38;5;124;43m\"\u001b[39;49m\u001b[43m)\u001b[49m\u001b[43m,\u001b[49m\n\u001b[0;32m      4\u001b[0m \u001b[43m    \u001b[49m\u001b[43malways_ram\u001b[49m\u001b[38;5;241;43m=\u001b[39;49m\u001b[38;5;28;43;01mTrue\u001b[39;49;00m\n\u001b[0;32m      5\u001b[0m \u001b[43m)\u001b[49m\n",
      "File \u001b[1;32mc:\\ProgramData\\miniconda3\\envs\\aiworkspace\\lib\\site-packages\\qdrant_client\\qdrant_client.py:1905\u001b[0m, in \u001b[0;36mQdrantClient.create_collection\u001b[1;34m(self, collection_name, vectors_config, sparse_vectors_config, shard_number, sharding_method, replication_factor, write_consistency_factor, on_disk_payload, hnsw_config, optimizers_config, wal_config, quantization_config, init_from, timeout, **kwargs)\u001b[0m\n\u001b[0;32m   1840\u001b[0m \u001b[38;5;28;01mdef\u001b[39;00m \u001b[38;5;21mcreate_collection\u001b[39m(\n\u001b[0;32m   1841\u001b[0m     \u001b[38;5;28mself\u001b[39m,\n\u001b[0;32m   1842\u001b[0m     collection_name: \u001b[38;5;28mstr\u001b[39m,\n\u001b[1;32m   (...)\u001b[0m\n\u001b[0;32m   1856\u001b[0m     \u001b[38;5;241m*\u001b[39m\u001b[38;5;241m*\u001b[39mkwargs: Any,\n\u001b[0;32m   1857\u001b[0m ) \u001b[38;5;241m-\u001b[39m\u001b[38;5;241m>\u001b[39m \u001b[38;5;28mbool\u001b[39m:\n\u001b[0;32m   1858\u001b[0m \u001b[38;5;250m    \u001b[39m\u001b[38;5;124;03m\"\"\"Create empty collection with given parameters\u001b[39;00m\n\u001b[0;32m   1859\u001b[0m \n\u001b[0;32m   1860\u001b[0m \u001b[38;5;124;03m    Args:\u001b[39;00m\n\u001b[1;32m   (...)\u001b[0m\n\u001b[0;32m   1903\u001b[0m \u001b[38;5;124;03m        Operation result\u001b[39;00m\n\u001b[0;32m   1904\u001b[0m \u001b[38;5;124;03m    \"\"\"\u001b[39;00m\n\u001b[1;32m-> 1905\u001b[0m     \u001b[38;5;28;01massert\u001b[39;00m \u001b[38;5;28mlen\u001b[39m(kwargs) \u001b[38;5;241m==\u001b[39m \u001b[38;5;241m0\u001b[39m, \u001b[38;5;124mf\u001b[39m\u001b[38;5;124m\"\u001b[39m\u001b[38;5;124mUnknown arguments: \u001b[39m\u001b[38;5;132;01m{\u001b[39;00m\u001b[38;5;28mlist\u001b[39m(kwargs\u001b[38;5;241m.\u001b[39mkeys())\u001b[38;5;132;01m}\u001b[39;00m\u001b[38;5;124m\"\u001b[39m\n\u001b[0;32m   1907\u001b[0m     \u001b[38;5;28;01mreturn\u001b[39;00m \u001b[38;5;28mself\u001b[39m\u001b[38;5;241m.\u001b[39m_client\u001b[38;5;241m.\u001b[39mcreate_collection(\n\u001b[0;32m   1908\u001b[0m         collection_name\u001b[38;5;241m=\u001b[39mcollection_name,\n\u001b[0;32m   1909\u001b[0m         vectors_config\u001b[38;5;241m=\u001b[39mvectors_config,\n\u001b[1;32m   (...)\u001b[0m\n\u001b[0;32m   1922\u001b[0m         \u001b[38;5;241m*\u001b[39m\u001b[38;5;241m*\u001b[39mkwargs,\n\u001b[0;32m   1923\u001b[0m     )\n",
      "\u001b[1;31mAssertionError\u001b[0m: Unknown arguments: ['always_ram']"
     ]
    }
   ],
   "source": [
    "qdrant_client.create_collection(\n",
    "    collection_name=\"example_collection\",\n",
    "    vectors_config=models.VectorParams(size=100, distance=\"Cosine\", on_disk=False),\n",
    ")"
   ]
  },
  {
   "cell_type": "code",
   "execution_count": 55,
   "metadata": {},
   "outputs": [],
   "source": [
    "import numpy as np\n",
    "\n",
    "vector = np.random.rand(100, 100).astype(np.float32)\n",
    "index = np.arange(100)"
   ]
  },
  {
   "cell_type": "code",
   "execution_count": 43,
   "metadata": {},
   "outputs": [
    {
     "data": {
      "text/plain": [
       "UpdateResult(operation_id=1, status=<UpdateStatus.COMPLETED: 'completed'>)"
      ]
     },
     "execution_count": 43,
     "metadata": {},
     "output_type": "execute_result"
    }
   ],
   "source": [
    "qdrant_client.upsert(\n",
    "    collection_name=\"example_collection\",\n",
    "    points=models.Batch(\n",
    "        ids=index.tolist(),\n",
    "        vectors=vector.tolist(),\n",
    "    )\n",
    ")"
   ]
  },
  {
   "cell_type": "code",
   "execution_count": 44,
   "metadata": {},
   "outputs": [
    {
     "data": {
      "text/plain": [
       "[Record(id=1, payload={}, vector=None, shard_key=None, order_value=None),\n",
       " Record(id=2, payload={}, vector=None, shard_key=None, order_value=None),\n",
       " Record(id=3, payload={}, vector=None, shard_key=None, order_value=None),\n",
       " Record(id=4, payload={}, vector=None, shard_key=None, order_value=None),\n",
       " Record(id=5, payload={}, vector=None, shard_key=None, order_value=None)]"
      ]
     },
     "execution_count": 44,
     "metadata": {},
     "output_type": "execute_result"
    }
   ],
   "source": [
    "qdrant_client.retrieve(\n",
    "    collection_name=\"example_collection\",\n",
    "    ids = [1, 2, 3, 4, 5],\n",
    "    with_payload = True,\n",
    ")"
   ]
  },
  {
   "cell_type": "code",
   "execution_count": 57,
   "metadata": {},
   "outputs": [
    {
     "data": {
      "text/plain": [
       "('Heather Flowers', 'PSC 7633, Box 6103\\nAPO AP 52353')"
      ]
     },
     "execution_count": 57,
     "metadata": {},
     "output_type": "execute_result"
    }
   ],
   "source": [
    "import faker as Faker\n",
    "\n",
    "fake = Faker.Faker()\n",
    "fake.name(), fake.address()"
   ]
  },
  {
   "cell_type": "code",
   "execution_count": 58,
   "metadata": {},
   "outputs": [],
   "source": [
    "fake_payload = [\n",
    "    {\n",
    "        \"person_name\": fake.name(), \n",
    "        \"address\": fake.address()\n",
    "    } for _ in range(100)\n",
    "]"
   ]
  },
  {
   "cell_type": "code",
   "execution_count": 60,
   "metadata": {},
   "outputs": [
    {
     "data": {
      "text/plain": [
       "UpdateResult(operation_id=0, status=<UpdateStatus.COMPLETED: 'completed'>)"
      ]
     },
     "execution_count": 60,
     "metadata": {},
     "output_type": "execute_result"
    }
   ],
   "source": [
    "qdrant_client.upsert(\n",
    "    collection_name=\"example_collection\",\n",
    "    points=models.Batch(\n",
    "        ids=index.tolist(),\n",
    "        vectors=vector.tolist(),\n",
    "        payloads=fake_payload,\n",
    "    )\n",
    ")"
   ]
  },
  {
   "cell_type": "code",
   "execution_count": 66,
   "metadata": {},
   "outputs": [
    {
     "data": {
      "text/plain": [
       "[ScoredPoint(id=75, version=0, score=0.90454483, payload={'address': '0765 Donna Square Suite 174\\nSouth Sarahfurt, AS 41105', 'person_name': 'Maria Klein'}, vector=None, shard_key=None, order_value=None),\n",
       " ScoredPoint(id=67, version=0, score=0.89558595, payload={'address': '969 Scott Pike\\nThomasfurt, MS 78281', 'person_name': 'Justin Franco'}, vector=None, shard_key=None, order_value=None),\n",
       " ScoredPoint(id=57, version=0, score=0.8916043, payload={'address': '597 Allen Ports\\nLake James, IN 95675', 'person_name': 'Sandra Sloan'}, vector=None, shard_key=None, order_value=None),\n",
       " ScoredPoint(id=8, version=0, score=0.8911056, payload={'address': '14613 Villanueva Knolls\\nMartinezberg, AK 62241', 'person_name': 'John Garcia'}, vector=None, shard_key=None, order_value=None),\n",
       " ScoredPoint(id=51, version=0, score=0.8909038, payload={'address': 'PSC 2331, Box 4373\\nAPO AP 11066', 'person_name': 'Andrew Camacho'}, vector=None, shard_key=None, order_value=None)]"
      ]
     },
     "execution_count": 66,
     "metadata": {},
     "output_type": "execute_result"
    }
   ],
   "source": [
    "# Random query\n",
    "qdrant_client.search(\n",
    "    collection_name=\"example_collection\",\n",
    "    query_vector=[0.5] * 100,\n",
    "    limit=5,\n",
    "    with_payload=True,\n",
    ")"
   ]
  }
 ],
 "metadata": {
  "kernelspec": {
   "display_name": "aiworkspace",
   "language": "python",
   "name": "python3"
  },
  "language_info": {
   "codemirror_mode": {
    "name": "ipython",
    "version": 3
   },
   "file_extension": ".py",
   "mimetype": "text/x-python",
   "name": "python",
   "nbconvert_exporter": "python",
   "pygments_lexer": "ipython3",
   "version": "3.10.14"
  }
 },
 "nbformat": 4,
 "nbformat_minor": 2
}
