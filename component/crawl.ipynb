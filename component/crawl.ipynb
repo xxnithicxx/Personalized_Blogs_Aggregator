{
 "cells": [
  {
   "cell_type": "code",
   "execution_count": 7,
   "metadata": {},
   "outputs": [],
   "source": [
    "from bs4 import BeautifulSoup\n",
    "from selenium import webdriver\n",
    "import requests"
   ]
  },
  {
   "cell_type": "code",
   "execution_count": 13,
   "metadata": {},
   "outputs": [],
   "source": [
    "url = \"https://www.thespruceeats.com/post-sitemap.xml\"\n",
    "# url = \"https://machinelearningmastery.com/post-sitemap2.xml\"\n",
    "dr = webdriver.Edge()\n",
    "dr.get(url)\n",
    "soup = BeautifulSoup(dr.page_source, 'html.parser')"
   ]
  },
  {
   "cell_type": "code",
   "execution_count": 14,
   "metadata": {},
   "outputs": [],
   "source": [
    "table_object = soup.find_all(id='sitemap')\n",
    "# Get all the links\n",
    "links = table_object[0].find_all('a')\n",
    "# Write to file\n",
    "with open('links.txt', 'a') as f:\n",
    "    for link in links:\n",
    "        f.write(\"%s\\n\" % link.get('href'))"
   ]
  }
 ],
 "metadata": {
  "kernelspec": {
   "display_name": "aiworkspace",
   "language": "python",
   "name": "python3"
  },
  "language_info": {
   "codemirror_mode": {
    "name": "ipython",
    "version": 3
   },
   "file_extension": ".py",
   "mimetype": "text/x-python",
   "name": "python",
   "nbconvert_exporter": "python",
   "pygments_lexer": "ipython3",
   "version": "3.10.14"
  }
 },
 "nbformat": 4,
 "nbformat_minor": 2
}
